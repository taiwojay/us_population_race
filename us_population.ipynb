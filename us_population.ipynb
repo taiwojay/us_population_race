{
 "cells": [
  {
   "cell_type": "markdown",
   "id": "6f81ed55",
   "metadata": {},
   "source": [
    "## US Population By Race Visualization"
   ]
  },
  {
   "cell_type": "markdown",
   "id": "ce16cdfe",
   "metadata": {},
   "source": [
    "Data visualization is one of the most important aspects of data analysis, alongside exploratory data analysis and building of models. By tranforming data into visual structures, communicating this data to others becomes much less tasking, identification of patterns, trends and outliers becomes is made possible and drawing insights and making conclusions can come with more certainty.\n",
    "\n",
    "As a way of showcasing my understanding of data visualization, I will be using various python libraries to visualize and analyse changes in the population of U.S citizens by race.  "
   ]
  },
  {
   "cell_type": "markdown",
   "id": "d6995603",
   "metadata": {},
   "source": [
    "The importance of population analysis (on any category) of people cannot be overstated. There are various use cases of such analysis, whether by the government, for planning how population growth might affect policies officials want to introduce, or by private organizations looking to understand the particular demographic of potential customers that can maximize profits.\n",
    "https://www.measureevaluation.org/.\n",
    "The objective of this small project is simply to visualize trends of population and how they vary by race in America. To be able to understand other factors that contribute to trends observed, other datasets and factors must be taken into account."
   ]
  },
  {
   "cell_type": "markdown",
   "id": "701a9bf2",
   "metadata": {},
   "source": [
    "### The dataset\n",
    "The data to be used has been obtained from https://www.statsamerica.org/downloads/default.aspx, specifically from the United States Census Bureau. It contains population of people in the U.S, categorized by race, over various counties in the states of the U.S. The data ranges from 1990 to 2019. \n",
    "The pandas library will be imported to display this data."
   ]
  },
  {
   "cell_type": "code",
   "execution_count": 12,
   "id": "9f1aabb8",
   "metadata": {},
   "outputs": [
    {
     "data": {
      "text/html": [
       "<div>\n",
       "<style scoped>\n",
       "    .dataframe tbody tr th:only-of-type {\n",
       "        vertical-align: middle;\n",
       "    }\n",
       "\n",
       "    .dataframe tbody tr th {\n",
       "        vertical-align: top;\n",
       "    }\n",
       "\n",
       "    .dataframe thead th {\n",
       "        text-align: right;\n",
       "    }\n",
       "</style>\n",
       "<table border=\"1\" class=\"dataframe\">\n",
       "  <thead>\n",
       "    <tr style=\"text-align: right;\">\n",
       "      <th></th>\n",
       "      <th>year</th>\n",
       "      <th>total_pop</th>\n",
       "      <th>white</th>\n",
       "      <th>black</th>\n",
       "      <th>amer_indian_alaskan</th>\n",
       "      <th>asian</th>\n",
       "      <th>hawaiian_pac_isl</th>\n",
       "      <th>mixed</th>\n",
       "      <th>not_hispanic</th>\n",
       "      <th>hispanic</th>\n",
       "    </tr>\n",
       "  </thead>\n",
       "  <tbody>\n",
       "    <tr>\n",
       "      <th>0</th>\n",
       "      <td>1990</td>\n",
       "      <td>249622814</td>\n",
       "      <td>209366661</td>\n",
       "      <td>30648345</td>\n",
       "      <td>2058726</td>\n",
       "      <td>7549082</td>\n",
       "      <td>NaN</td>\n",
       "      <td>NaN</td>\n",
       "      <td>227049976</td>\n",
       "      <td>22572838</td>\n",
       "    </tr>\n",
       "    <tr>\n",
       "      <th>1</th>\n",
       "      <td>1991</td>\n",
       "      <td>252980941</td>\n",
       "      <td>211606011</td>\n",
       "      <td>31290743</td>\n",
       "      <td>2126968</td>\n",
       "      <td>7957219</td>\n",
       "      <td>NaN</td>\n",
       "      <td>NaN</td>\n",
       "      <td>229425951</td>\n",
       "      <td>23554990</td>\n",
       "    </tr>\n",
       "    <tr>\n",
       "      <th>2</th>\n",
       "      <td>1992</td>\n",
       "      <td>256514224</td>\n",
       "      <td>213945622</td>\n",
       "      <td>31979982</td>\n",
       "      <td>2202176</td>\n",
       "      <td>8386444</td>\n",
       "      <td>NaN</td>\n",
       "      <td>NaN</td>\n",
       "      <td>231894879</td>\n",
       "      <td>24619345</td>\n",
       "    </tr>\n",
       "    <tr>\n",
       "      <th>3</th>\n",
       "      <td>1993</td>\n",
       "      <td>259918588</td>\n",
       "      <td>216187073</td>\n",
       "      <td>32634735</td>\n",
       "      <td>2282052</td>\n",
       "      <td>8814728</td>\n",
       "      <td>NaN</td>\n",
       "      <td>NaN</td>\n",
       "      <td>234141927</td>\n",
       "      <td>25776661</td>\n",
       "    </tr>\n",
       "    <tr>\n",
       "      <th>4</th>\n",
       "      <td>1994</td>\n",
       "      <td>263125821</td>\n",
       "      <td>218304774</td>\n",
       "      <td>33258981</td>\n",
       "      <td>2361078</td>\n",
       "      <td>9200988</td>\n",
       "      <td>NaN</td>\n",
       "      <td>NaN</td>\n",
       "      <td>236179888</td>\n",
       "      <td>26945933</td>\n",
       "    </tr>\n",
       "  </tbody>\n",
       "</table>\n",
       "</div>"
      ],
      "text/plain": [
       "   year  total_pop      white     black  amer_indian_alaskan    asian  \\\n",
       "0  1990  249622814  209366661  30648345              2058726  7549082   \n",
       "1  1991  252980941  211606011  31290743              2126968  7957219   \n",
       "2  1992  256514224  213945622  31979982              2202176  8386444   \n",
       "3  1993  259918588  216187073  32634735              2282052  8814728   \n",
       "4  1994  263125821  218304774  33258981              2361078  9200988   \n",
       "\n",
       "   hawaiian_pac_isl  mixed  not_hispanic  hispanic  \n",
       "0               NaN    NaN     227049976  22572838  \n",
       "1               NaN    NaN     229425951  23554990  \n",
       "2               NaN    NaN     231894879  24619345  \n",
       "3               NaN    NaN     234141927  25776661  \n",
       "4               NaN    NaN     236179888  26945933  "
      ]
     },
     "execution_count": 12,
     "metadata": {},
     "output_type": "execute_result"
    }
   ],
   "source": [
    "import pandas as pd\n",
    "\n",
    "df = pd.read_csv(r\"C:\\Users\\ACER\\Desktop\\Data Camp\\Python for Data\\Population-by-Race\\us_population_1990_2019.csv\")\n",
    "\n",
    "df.head()\n"
   ]
  },
  {
   "cell_type": "code",
   "execution_count": null,
   "id": "5a998f8b",
   "metadata": {},
   "outputs": [],
   "source": []
  },
  {
   "cell_type": "code",
   "execution_count": null,
   "id": "38b0df05",
   "metadata": {},
   "outputs": [],
   "source": []
  }
 ],
 "metadata": {
  "kernelspec": {
   "display_name": "Python 3 (ipykernel)",
   "language": "python",
   "name": "python3"
  },
  "language_info": {
   "codemirror_mode": {
    "name": "ipython",
    "version": 3
   },
   "file_extension": ".py",
   "mimetype": "text/x-python",
   "name": "python",
   "nbconvert_exporter": "python",
   "pygments_lexer": "ipython3",
   "version": "3.9.12"
  }
 },
 "nbformat": 4,
 "nbformat_minor": 5
}
