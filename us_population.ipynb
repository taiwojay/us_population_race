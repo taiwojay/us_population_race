{
 "cells": [
  {
   "cell_type": "markdown",
   "id": "85c6ba57",
   "metadata": {},
   "source": [
    "## US Population By Race Visualization"
   ]
  },
  {
   "cell_type": "markdown",
   "id": "daa87d79",
   "metadata": {},
   "source": [
    "Data visualization is one of the most important aspects of data analysis, alongside exploratory data analysis and building of models. By tranforming data into visual structures, communicating this data to others becomes much less tasking, identification of patterns, trends and outliers becomes is made possible and drawing insights and making conclusions can come with more certainty.\n",
    "\n",
    "As a way of showcasing my understanding of data visualization, I will be using various python libraries to visualize and analyse changes in the population of U.S citizens by race.  \n",
    "\n",
    "The objective of this small project is simply to visualize trends of population and how they vary by race in America. To be able to understand other factors that contribute to trends observed, other datasets and factors must be taken into account."
   ]
  },
  {
   "cell_type": "markdown",
   "id": "5aeabf63",
   "metadata": {},
   "source": [
    "### The dataset\n",
    "The data to be used has been obtained from https://www.statsamerica.org/downloads/default.aspx, specifically from the United States Census Bureau. It contains population of people in the U.S, categorized by race, over various counties in the states of the U.S. The data ranges from 2000 to 2019. \n",
    "The pandas library will be imported to display this data."
   ]
  },
  {
   "cell_type": "code",
   "execution_count": 1,
   "id": "284e3c41",
   "metadata": {},
   "outputs": [
    {
     "data": {
      "text/html": [
       "<div>\n",
       "<style scoped>\n",
       "    .dataframe tbody tr th:only-of-type {\n",
       "        vertical-align: middle;\n",
       "    }\n",
       "\n",
       "    .dataframe tbody tr th {\n",
       "        vertical-align: top;\n",
       "    }\n",
       "\n",
       "    .dataframe thead th {\n",
       "        text-align: right;\n",
       "    }\n",
       "</style>\n",
       "<table border=\"1\" class=\"dataframe\">\n",
       "  <thead>\n",
       "    <tr style=\"text-align: right;\">\n",
       "      <th></th>\n",
       "      <th>year</th>\n",
       "      <th>total_pop</th>\n",
       "      <th>white</th>\n",
       "      <th>black</th>\n",
       "      <th>amer_indian_alaskan</th>\n",
       "      <th>asian</th>\n",
       "      <th>hawaiian_pac_isl</th>\n",
       "      <th>mixed</th>\n",
       "      <th>not_hispanic</th>\n",
       "      <th>hispanic</th>\n",
       "    </tr>\n",
       "  </thead>\n",
       "  <tbody>\n",
       "    <tr>\n",
       "      <th>0</th>\n",
       "      <td>2000</td>\n",
       "      <td>282162411</td>\n",
       "      <td>228530479</td>\n",
       "      <td>35814706</td>\n",
       "      <td>2684491</td>\n",
       "      <td>10705839</td>\n",
       "      <td>467339</td>\n",
       "      <td>3959557</td>\n",
       "      <td>246500526</td>\n",
       "      <td>35661885</td>\n",
       "    </tr>\n",
       "    <tr>\n",
       "      <th>1</th>\n",
       "      <td>2001</td>\n",
       "      <td>284968955</td>\n",
       "      <td>230049196</td>\n",
       "      <td>36263029</td>\n",
       "      <td>2769731</td>\n",
       "      <td>11182404</td>\n",
       "      <td>487476</td>\n",
       "      <td>4217119</td>\n",
       "      <td>247824859</td>\n",
       "      <td>37144096</td>\n",
       "    </tr>\n",
       "    <tr>\n",
       "      <th>2</th>\n",
       "      <td>2002</td>\n",
       "      <td>287625193</td>\n",
       "      <td>231446915</td>\n",
       "      <td>36684650</td>\n",
       "      <td>2857113</td>\n",
       "      <td>11649265</td>\n",
       "      <td>507265</td>\n",
       "      <td>4479985</td>\n",
       "      <td>249007573</td>\n",
       "      <td>38617620</td>\n",
       "    </tr>\n",
       "    <tr>\n",
       "      <th>3</th>\n",
       "      <td>2003</td>\n",
       "      <td>290107933</td>\n",
       "      <td>232717191</td>\n",
       "      <td>37066096</td>\n",
       "      <td>2947575</td>\n",
       "      <td>12099525</td>\n",
       "      <td>526390</td>\n",
       "      <td>4751156</td>\n",
       "      <td>250058504</td>\n",
       "      <td>40049429</td>\n",
       "    </tr>\n",
       "    <tr>\n",
       "      <th>4</th>\n",
       "      <td>2004</td>\n",
       "      <td>292805298</td>\n",
       "      <td>234120447</td>\n",
       "      <td>37510582</td>\n",
       "      <td>3044517</td>\n",
       "      <td>12542740</td>\n",
       "      <td>547317</td>\n",
       "      <td>5039695</td>\n",
       "      <td>251303923</td>\n",
       "      <td>41501375</td>\n",
       "    </tr>\n",
       "  </tbody>\n",
       "</table>\n",
       "</div>"
      ],
      "text/plain": [
       "   year  total_pop      white     black  amer_indian_alaskan     asian  \\\n",
       "0  2000  282162411  228530479  35814706              2684491  10705839   \n",
       "1  2001  284968955  230049196  36263029              2769731  11182404   \n",
       "2  2002  287625193  231446915  36684650              2857113  11649265   \n",
       "3  2003  290107933  232717191  37066096              2947575  12099525   \n",
       "4  2004  292805298  234120447  37510582              3044517  12542740   \n",
       "\n",
       "   hawaiian_pac_isl    mixed  not_hispanic  hispanic  \n",
       "0            467339  3959557     246500526  35661885  \n",
       "1            487476  4217119     247824859  37144096  \n",
       "2            507265  4479985     249007573  38617620  \n",
       "3            526390  4751156     250058504  40049429  \n",
       "4            547317  5039695     251303923  41501375  "
      ]
     },
     "execution_count": 1,
     "metadata": {},
     "output_type": "execute_result"
    }
   ],
   "source": [
    "import pandas as pd\n",
    "\n",
    "df = pd.read_csv(r\"C:\\Users\\ACER\\Desktop\\Data Camp\\Python for Data\\Population-by-Race\\us_population_1990_2019.csv\")\n",
    "\n",
    "df.head()\n"
   ]
  },
  {
   "cell_type": "markdown",
   "id": "214d0207",
   "metadata": {},
   "source": [
    "NB: From the website the data was sourced, there were values missing from 1990-1999, so values from 2000 upwards will be used."
   ]
  },
  {
   "cell_type": "markdown",
   "id": "8bc83b74",
   "metadata": {},
   "source": [
    "We will confirm if there are any missing values in the dataset by checking for any null values in each of the columns and also check the shape of the dataset."
   ]
  },
  {
   "cell_type": "code",
   "execution_count": 13,
   "id": "6d405f2f",
   "metadata": {},
   "outputs": [
    {
     "data": {
      "text/plain": [
       "(20, 10)"
      ]
     },
     "execution_count": 13,
     "metadata": {},
     "output_type": "execute_result"
    }
   ],
   "source": [
    "df.shape"
   ]
  },
  {
   "cell_type": "code",
   "execution_count": 2,
   "id": "c7a47232",
   "metadata": {},
   "outputs": [
    {
     "data": {
      "text/plain": [
       "year                   False\n",
       "total_pop              False\n",
       "white                  False\n",
       "black                  False\n",
       "amer_indian_alaskan    False\n",
       "asian                  False\n",
       "hawaiian_pac_isl       False\n",
       "mixed                  False\n",
       "not_hispanic           False\n",
       "hispanic               False\n",
       "dtype: bool"
      ]
     },
     "execution_count": 2,
     "metadata": {},
     "output_type": "execute_result"
    }
   ],
   "source": [
    "df.isna().any()"
   ]
  },
  {
   "cell_type": "markdown",
   "id": "d5f4c5a8",
   "metadata": {},
   "source": [
    "### Visualization of Minority Population Growth "
   ]
  },
  {
   "cell_type": "code",
   "execution_count": 4,
   "id": "ec537ef9",
   "metadata": {},
   "outputs": [
    {
     "data": {
      "image/png": "[encoded data removed]",
      "text/plain": [
       "<Figure size 432x288 with 1 Axes>"
      ]
     },
     "metadata": {
      "needs_background": "light"
     },
     "output_type": "display_data"
    }
   ],
   "source": [
    "import matplotlib.pyplot as plt\n",
    "\n",
    "ax = plt.gca()\n",
    "\n",
    "def plotter(series):\n",
    "    return df.plt(kind='line',x='year',y=series, ax=ax)\n",
    "\n",
    "\n",
    "df.plot(kind='line',x='year',y='black',ax=ax)\n",
    "df.plot(kind='line',x='year',y='asian',ax=ax)\n",
    "df.plot(kind='line',x='year',y='hispanic',ax=ax)\n",
    "df.plot(kind='line',x='year',y='mixed',ax=ax)\n",
    "df.plot(kind='line',x='year',y='amer_indian_alaskan',ax=ax)\n",
    "plt.xlabel('Year')\n",
    "plt.ylabel('Population')\n",
    "plt.title('US Minority Population')\n",
    "\n",
    "\n",
    "\n",
    "plt.show()"
   ]
  },
  {
   "cell_type": "markdown",
   "id": "2a6d5251",
   "metadata": {},
   "source": [
    "### Minority Population as of 2019"
   ]
  },
  {
   "cell_type": "code",
   "execution_count": 31,
   "id": "16c1ed8f",
   "metadata": {},
   "outputs": [
    {
     "data": {
      "text/plain": [
       "<AxesSubplot:>"
      ]
     },
     "execution_count": 31,
     "metadata": {},
     "output_type": "execute_result"
    },
    {
     "data": {
      "image/png": "[encoded data removed]",
      "text/plain": [
       "<Figure size 432x288 with 1 Axes>"
      ]
     },
     "metadata": {
      "needs_background": "light"
     },
     "output_type": "display_data"
    }
   ],
   "source": [
    "df.loc[[19],[\"black\",\"amer_indian_alaskan\",\"asian\",\"hawaiian_pac_isl\",\"mixed\",\"hispanic\"]].plot(kind='bar')\n",
    "\n",
    "\n"
   ]
  },
  {
   "cell_type": "markdown",
   "id": "fa02b98f",
   "metadata": {},
   "source": [
    "### Conclusion\n",
    "The importance of population analysis (on any category) of people cannot be overstated. There are various use cases of such analysis, whether by the government, for planning how population growth might affect policies officials want to introduce, or by private organizations looking to understand the particular demographic of potential customers that can maximize profits.\n",
    "https://www.measureevaluation.org/.\n"
   ]
  }
 ],
 "metadata": {
  "kernelspec": {
   "display_name": "Python 3 (ipykernel)",
   "language": "python",
   "name": "python3"
  },
  "language_info": {
   "codemirror_mode": {
    "name": "ipython",
    "version": 3
   },
   "file_extension": ".py",
   "mimetype": "text/x-python",
   "name": "python",
   "nbconvert_exporter": "python",
   "pygments_lexer": "ipython3",
   "version": "3.9.12"
  }
 },
 "nbformat": 4,
 "nbformat_minor": 5
}
